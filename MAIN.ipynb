{
  "nbformat": 4,
  "nbformat_minor": 0,
  "metadata": {
    "colab": {
      "name": "MAIN.ipynb",
      "version": "0.3.2",
      "provenance": [],
      "collapsed_sections": [],
      "toc_visible": true,
      "include_colab_link": true
    },
    "kernelspec": {
      "name": "python3",
      "display_name": "Python 3"
    }
  },
  "cells": [
    {
      "cell_type": "markdown",
      "metadata": {
        "id": "view-in-github",
        "colab_type": "text"
      },
      "source": [
        "[View in Colaboratory](https://colab.research.google.com/github/FrankNaets/TestExecutableBook/blob/master/MAIN.ipynb)"
      ]
    },
    {
      "metadata": {
        "id": "XoT-p3ZtM3ea",
        "colab_type": "code",
        "colab": {
          "base_uri": "https://localhost:8080/",
          "height": 34
        },
        "outputId": "b132e9e5-726a-4614-ad3d-8f27e8585682"
      },
      "cell_type": "code",
      "source": [
        "a = 4\n",
        "b = 5\n",
        "c = a+b\n",
        "print(c)"
      ],
      "execution_count": 1,
      "outputs": [
        {
          "output_type": "stream",
          "text": [
            "9\n"
          ],
          "name": "stdout"
        }
      ]
    },
    {
      "metadata": {
        "id": "mfLyGyrIM_Sf",
        "colab_type": "code",
        "colab": {
          "base_uri": "https://localhost:8080/",
          "height": 50
        },
        "outputId": "a31fa9ee-d5a4-4819-99fb-b2a6fcf4de48"
      },
      "cell_type": "code",
      "source": [
        "import numpy as np\n",
        "testMatrix = np.random.rand(2,3)\n",
        "print(testMatrix)"
      ],
      "execution_count": 7,
      "outputs": [
        {
          "output_type": "stream",
          "text": [
            "[[0.45917043 0.2274475  0.26984701]\n",
            " [0.66238738 0.02316009 0.69631138]]\n"
          ],
          "name": "stdout"
        }
      ]
    },
    {
      "metadata": {
        "id": "jD5uYkgVOu8F",
        "colab_type": "code",
        "colab": {}
      },
      "cell_type": "code",
      "source": [
        ""
      ],
      "execution_count": 0,
      "outputs": []
    }
  ]
}